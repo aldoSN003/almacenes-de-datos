{
 "cells": [
  {
   "metadata": {},
   "cell_type": "markdown",
   "source": "## FACTURAS",
   "id": "886b931b6feb518c"
  },
  {
   "metadata": {
    "ExecuteTime": {
     "end_time": "2025-10-06T05:16:41.018029Z",
     "start_time": "2025-10-06T05:16:41.007088Z"
    }
   },
   "cell_type": "code",
   "source": [
    "import pandas as pd\n",
    "\n",
    "headers_factura= ['idFactura', 'idpaciente', 'fecha', \"idHosp\"]\n",
    "\n",
    "\n",
    "df_factura_sur = pd.read_csv(\"new_csv/factura_sur.csv\", header=None, names=headers_factura)\n",
    "df_factura_norte = pd.read_csv(\"new_csv/factura_norte.csv\", header=None,names=headers_factura)"
   ],
   "id": "f640f65540598552",
   "outputs": [],
   "execution_count": 70
  },
  {
   "metadata": {
    "ExecuteTime": {
     "end_time": "2025-10-06T05:16:41.058122Z",
     "start_time": "2025-10-06T05:16:41.055207Z"
    }
   },
   "cell_type": "code",
   "source": [
    "series_id_facturas_sur = df_factura_sur[\"idFactura\"]\n",
    "series_id_facturas_norte = df_factura_norte[\"idFactura\"]\n"
   ],
   "id": "83669431cf93dbc5",
   "outputs": [],
   "execution_count": 71
  },
  {
   "metadata": {},
   "cell_type": "markdown",
   "source": "## COnceptos",
   "id": "72a67130698f930d"
  },
  {
   "metadata": {
    "ExecuteTime": {
     "end_time": "2025-10-06T05:16:41.115494Z",
     "start_time": "2025-10-06T05:16:41.107494Z"
    }
   },
   "cell_type": "code",
   "source": [
    "import pandas as pd\n",
    "\n",
    "# Los datos de tus conceptos\n",
    "data = [\n",
    "    ('CP001', 'Consulta Externa', 'Atención médica general en consultorio, sin urgencia.', 850.00),\n",
    "    ('CP002', 'Noche Hospitalización', 'Estadía por 24 horas en habitación estándar.', 2500.00),\n",
    "    ('CP003', 'Examen de Laboratorio', 'Análisis de sangre y orina básicos (Biometría, Urianálisis).', 620.50),\n",
    "    ('CP004', 'Sutura Menor', 'Procedimiento para cerrar heridas simples con anestesia local.', 1300.00),\n",
    "    ('CP005', 'Día de Quirófano', 'Uso del área de cirugía por 1 hora, incluye equipo y personal técnico.', 7500.00),\n",
    "    ('CP006', 'Medicamento Estándar', 'Suministro de medicamentos básicos (analgésicos, antibióticos).', 150.00),\n",
    "    ('CP007', 'Radiografía Simple', 'Toma de imagenología de una zona específica (ej. tórax o mano).', 780.00)\n",
    "]\n",
    "\n",
    "# Los nombres de las columnas\n",
    "columns = ['idConcepto', 'nombre', 'descripcion', 'precioBase']\n",
    "\n",
    "# Creación del DataFrame\n",
    "df_concepto = pd.DataFrame(data, columns=columns)\n",
    "\n",
    "df_concepto"
   ],
   "id": "42189d69617b2c0f",
   "outputs": [
    {
     "data": {
      "text/plain": [
       "  idConcepto                 nombre  \\\n",
       "0      CP001       Consulta Externa   \n",
       "1      CP002  Noche Hospitalización   \n",
       "2      CP003  Examen de Laboratorio   \n",
       "3      CP004           Sutura Menor   \n",
       "4      CP005       Día de Quirófano   \n",
       "5      CP006   Medicamento Estándar   \n",
       "6      CP007     Radiografía Simple   \n",
       "\n",
       "                                         descripcion  precioBase  \n",
       "0  Atención médica general en consultorio, sin ur...       850.0  \n",
       "1       Estadía por 24 horas en habitación estándar.      2500.0  \n",
       "2  Análisis de sangre y orina básicos (Biometría,...       620.5  \n",
       "3  Procedimiento para cerrar heridas simples con ...      1300.0  \n",
       "4  Uso del área de cirugía por 1 hora, incluye eq...      7500.0  \n",
       "5  Suministro de medicamentos básicos (analgésico...       150.0  \n",
       "6  Toma de imagenología de una zona específica (e...       780.0  "
      ],
      "text/html": [
       "<div>\n",
       "<style scoped>\n",
       "    .dataframe tbody tr th:only-of-type {\n",
       "        vertical-align: middle;\n",
       "    }\n",
       "\n",
       "    .dataframe tbody tr th {\n",
       "        vertical-align: top;\n",
       "    }\n",
       "\n",
       "    .dataframe thead th {\n",
       "        text-align: right;\n",
       "    }\n",
       "</style>\n",
       "<table border=\"1\" class=\"dataframe\">\n",
       "  <thead>\n",
       "    <tr style=\"text-align: right;\">\n",
       "      <th></th>\n",
       "      <th>idConcepto</th>\n",
       "      <th>nombre</th>\n",
       "      <th>descripcion</th>\n",
       "      <th>precioBase</th>\n",
       "    </tr>\n",
       "  </thead>\n",
       "  <tbody>\n",
       "    <tr>\n",
       "      <th>0</th>\n",
       "      <td>CP001</td>\n",
       "      <td>Consulta Externa</td>\n",
       "      <td>Atención médica general en consultorio, sin ur...</td>\n",
       "      <td>850.0</td>\n",
       "    </tr>\n",
       "    <tr>\n",
       "      <th>1</th>\n",
       "      <td>CP002</td>\n",
       "      <td>Noche Hospitalización</td>\n",
       "      <td>Estadía por 24 horas en habitación estándar.</td>\n",
       "      <td>2500.0</td>\n",
       "    </tr>\n",
       "    <tr>\n",
       "      <th>2</th>\n",
       "      <td>CP003</td>\n",
       "      <td>Examen de Laboratorio</td>\n",
       "      <td>Análisis de sangre y orina básicos (Biometría,...</td>\n",
       "      <td>620.5</td>\n",
       "    </tr>\n",
       "    <tr>\n",
       "      <th>3</th>\n",
       "      <td>CP004</td>\n",
       "      <td>Sutura Menor</td>\n",
       "      <td>Procedimiento para cerrar heridas simples con ...</td>\n",
       "      <td>1300.0</td>\n",
       "    </tr>\n",
       "    <tr>\n",
       "      <th>4</th>\n",
       "      <td>CP005</td>\n",
       "      <td>Día de Quirófano</td>\n",
       "      <td>Uso del área de cirugía por 1 hora, incluye eq...</td>\n",
       "      <td>7500.0</td>\n",
       "    </tr>\n",
       "    <tr>\n",
       "      <th>5</th>\n",
       "      <td>CP006</td>\n",
       "      <td>Medicamento Estándar</td>\n",
       "      <td>Suministro de medicamentos básicos (analgésico...</td>\n",
       "      <td>150.0</td>\n",
       "    </tr>\n",
       "    <tr>\n",
       "      <th>6</th>\n",
       "      <td>CP007</td>\n",
       "      <td>Radiografía Simple</td>\n",
       "      <td>Toma de imagenología de una zona específica (e...</td>\n",
       "      <td>780.0</td>\n",
       "    </tr>\n",
       "  </tbody>\n",
       "</table>\n",
       "</div>"
      ]
     },
     "execution_count": 72,
     "metadata": {},
     "output_type": "execute_result"
    }
   ],
   "execution_count": 72
  },
  {
   "metadata": {
    "ExecuteTime": {
     "end_time": "2025-10-06T05:16:41.233323Z",
     "start_time": "2025-10-06T05:16:41.228075Z"
    }
   },
   "cell_type": "code",
   "source": [
    "series_id_conceptos = df_concepto[\"idConcepto\"]\n",
    "series_id_conceptos"
   ],
   "id": "d0e2b728e05b67c8",
   "outputs": [
    {
     "data": {
      "text/plain": [
       "0    CP001\n",
       "1    CP002\n",
       "2    CP003\n",
       "3    CP004\n",
       "4    CP005\n",
       "5    CP006\n",
       "6    CP007\n",
       "Name: idConcepto, dtype: object"
      ]
     },
     "execution_count": 73,
     "metadata": {},
     "output_type": "execute_result"
    }
   ],
   "execution_count": 73
  },
  {
   "metadata": {},
   "cell_type": "markdown",
   "source": "## doctores",
   "id": "54e0ff0b45be62cc"
  },
  {
   "metadata": {
    "ExecuteTime": {
     "end_time": "2025-10-06T05:16:41.498260Z",
     "start_time": "2025-10-06T05:16:41.489043Z"
    }
   },
   "cell_type": "code",
   "source": [
    "doctor_headers = [\"idDoctor\", \"nombre\", \"sueldo\", \"especialidad\", \"idHosp\"]\n",
    "df_doctores = pd.read_csv(\"new_csv/doctores.csv\", header=None, names=doctor_headers)\n",
    "df_doctores\n"
   ],
   "id": "95e8446c8ed0654a",
   "outputs": [
    {
     "data": {
      "text/plain": [
       "    idDoctor               nombre  sueldo  especialidad idHosp\n",
       "0      DR001      Timoteo Acevedo   24973   Cardiología   HN01\n",
       "1      DR002     Teodoro Corrales   51950   Psiquiatría   HN02\n",
       "2      DR003       Óscar Espinoza   23192   Ginecología   HN03\n",
       "3      DR004         Liliana Puga   52356  Oftalmología   HN04\n",
       "4      DR005    Patricio Bañuelos   50378  Oftalmología   HN05\n",
       "..       ...                  ...     ...           ...    ...\n",
       "345    DR346        Susana Tamayo   42686   Ginecología   HS46\n",
       "346    DR347          Ana Carmona   35446   Psiquiatría   HS49\n",
       "347    DR348         Diego Madrid   53858    Neurología   HS52\n",
       "348    DR349  Dulce María Herrera   16900     Oncología   HS31\n",
       "349    DR350       Silvia Benítez   13065  Dermatología   HS01\n",
       "\n",
       "[350 rows x 5 columns]"
      ],
      "text/html": [
       "<div>\n",
       "<style scoped>\n",
       "    .dataframe tbody tr th:only-of-type {\n",
       "        vertical-align: middle;\n",
       "    }\n",
       "\n",
       "    .dataframe tbody tr th {\n",
       "        vertical-align: top;\n",
       "    }\n",
       "\n",
       "    .dataframe thead th {\n",
       "        text-align: right;\n",
       "    }\n",
       "</style>\n",
       "<table border=\"1\" class=\"dataframe\">\n",
       "  <thead>\n",
       "    <tr style=\"text-align: right;\">\n",
       "      <th></th>\n",
       "      <th>idDoctor</th>\n",
       "      <th>nombre</th>\n",
       "      <th>sueldo</th>\n",
       "      <th>especialidad</th>\n",
       "      <th>idHosp</th>\n",
       "    </tr>\n",
       "  </thead>\n",
       "  <tbody>\n",
       "    <tr>\n",
       "      <th>0</th>\n",
       "      <td>DR001</td>\n",
       "      <td>Timoteo Acevedo</td>\n",
       "      <td>24973</td>\n",
       "      <td>Cardiología</td>\n",
       "      <td>HN01</td>\n",
       "    </tr>\n",
       "    <tr>\n",
       "      <th>1</th>\n",
       "      <td>DR002</td>\n",
       "      <td>Teodoro Corrales</td>\n",
       "      <td>51950</td>\n",
       "      <td>Psiquiatría</td>\n",
       "      <td>HN02</td>\n",
       "    </tr>\n",
       "    <tr>\n",
       "      <th>2</th>\n",
       "      <td>DR003</td>\n",
       "      <td>Óscar Espinoza</td>\n",
       "      <td>23192</td>\n",
       "      <td>Ginecología</td>\n",
       "      <td>HN03</td>\n",
       "    </tr>\n",
       "    <tr>\n",
       "      <th>3</th>\n",
       "      <td>DR004</td>\n",
       "      <td>Liliana Puga</td>\n",
       "      <td>52356</td>\n",
       "      <td>Oftalmología</td>\n",
       "      <td>HN04</td>\n",
       "    </tr>\n",
       "    <tr>\n",
       "      <th>4</th>\n",
       "      <td>DR005</td>\n",
       "      <td>Patricio Bañuelos</td>\n",
       "      <td>50378</td>\n",
       "      <td>Oftalmología</td>\n",
       "      <td>HN05</td>\n",
       "    </tr>\n",
       "    <tr>\n",
       "      <th>...</th>\n",
       "      <td>...</td>\n",
       "      <td>...</td>\n",
       "      <td>...</td>\n",
       "      <td>...</td>\n",
       "      <td>...</td>\n",
       "    </tr>\n",
       "    <tr>\n",
       "      <th>345</th>\n",
       "      <td>DR346</td>\n",
       "      <td>Susana Tamayo</td>\n",
       "      <td>42686</td>\n",
       "      <td>Ginecología</td>\n",
       "      <td>HS46</td>\n",
       "    </tr>\n",
       "    <tr>\n",
       "      <th>346</th>\n",
       "      <td>DR347</td>\n",
       "      <td>Ana Carmona</td>\n",
       "      <td>35446</td>\n",
       "      <td>Psiquiatría</td>\n",
       "      <td>HS49</td>\n",
       "    </tr>\n",
       "    <tr>\n",
       "      <th>347</th>\n",
       "      <td>DR348</td>\n",
       "      <td>Diego Madrid</td>\n",
       "      <td>53858</td>\n",
       "      <td>Neurología</td>\n",
       "      <td>HS52</td>\n",
       "    </tr>\n",
       "    <tr>\n",
       "      <th>348</th>\n",
       "      <td>DR349</td>\n",
       "      <td>Dulce María Herrera</td>\n",
       "      <td>16900</td>\n",
       "      <td>Oncología</td>\n",
       "      <td>HS31</td>\n",
       "    </tr>\n",
       "    <tr>\n",
       "      <th>349</th>\n",
       "      <td>DR350</td>\n",
       "      <td>Silvia Benítez</td>\n",
       "      <td>13065</td>\n",
       "      <td>Dermatología</td>\n",
       "      <td>HS01</td>\n",
       "    </tr>\n",
       "  </tbody>\n",
       "</table>\n",
       "<p>350 rows × 5 columns</p>\n",
       "</div>"
      ]
     },
     "execution_count": 74,
     "metadata": {},
     "output_type": "execute_result"
    }
   ],
   "execution_count": 74
  },
  {
   "metadata": {
    "ExecuteTime": {
     "end_time": "2025-10-06T05:16:41.611127Z",
     "start_time": "2025-10-06T05:16:41.606793Z"
    }
   },
   "cell_type": "code",
   "source": [
    "series_id_doctores_sur = df_doctores[df_doctores['idHosp'].str.startswith('HS')]['idDoctor']\n",
    "series_id_doctores_norte = df_doctores[df_doctores['idHosp'].str.startswith('HN')]['idDoctor']"
   ],
   "id": "5c04fb86d888925d",
   "outputs": [],
   "execution_count": 75
  },
  {
   "metadata": {},
   "cell_type": "markdown",
   "source": "## factura detalle",
   "id": "7d76d8ec949d5b5a"
  },
  {
   "metadata": {
    "ExecuteTime": {
     "end_time": "2025-10-06T05:16:41.725480Z",
     "start_time": "2025-10-06T05:16:41.721642Z"
    }
   },
   "cell_type": "code",
   "source": [
    "\n",
    "headers_factura_detalle= ['idFactura', 'concepto', 'idDoctor', \"cant\",\"iva\"]\n",
    "\n",
    "\n",
    "df_factura_sur_detalle = pd.DataFrame(columns=headers_factura_detalle)\n",
    "df_factura_norte_detalle = pd.DataFrame(columns=headers_factura_detalle)"
   ],
   "id": "ac2405b98ecd52b",
   "outputs": [],
   "execution_count": 76
  },
  {
   "metadata": {},
   "cell_type": "markdown",
   "source": "# VALORES ALEATORIOS",
   "id": "3c90c4374257eb3a"
  },
  {
   "metadata": {
    "ExecuteTime": {
     "end_time": "2025-10-06T05:16:42.099147Z",
     "start_time": "2025-10-06T05:16:41.825520Z"
    }
   },
   "cell_type": "code",
   "source": [
    "import numpy as np\n",
    "# 1. Crear una lista de registros base (diccionarios) para la zona norte\n",
    "registros_norte = []\n",
    "for id_factura in series_id_facturas_norte:\n",
    "    num_conceptos = np.random.randint(1, 5) # De 1 a 4 conceptos por factura\n",
    "    for _ in range(num_conceptos):\n",
    "        registro = {\n",
    "            'idFactura': id_factura,\n",
    "            'concepto': np.random.choice(series_id_conceptos),\n",
    "            'cant': np.random.randint(1, 6),\n",
    "            'iva': 16.00\n",
    "        }\n",
    "        registros_norte.append(registro)\n",
    "\n",
    "# 2. Convertir la lista de registros a un DataFrame\n",
    "df_factura_norte_detalle = pd.DataFrame(registros_norte)\n",
    "\n",
    "# 3. Asignar doctores, garantizando que todos aparezcan al menos una vez\n",
    "total_registros_norte = len(df_factura_norte_detalle)\n",
    "doctores_norte_unicos = series_id_doctores_norte.tolist()\n",
    "num_extra_norte = total_registros_norte - len(doctores_norte_unicos)\n",
    "asignaciones_extra_norte = np.random.choice(doctores_norte_unicos, size=num_extra_norte).tolist()\n",
    "asignaciones_finales_norte = doctores_norte_unicos + asignaciones_extra_norte\n",
    "np.random.shuffle(asignaciones_finales_norte)\n",
    "df_factura_norte_detalle['idDoctor'] = asignaciones_finales_norte\n",
    "\n",
    "# 4. Asignar un ID secuencial único para cada detalle\n",
    "num_filas_norte = len(df_factura_norte_detalle)\n",
    "df_factura_norte_detalle['idFacturaDetalle'] = [f\"FADN{i:05d}\" for i in range(1, num_filas_norte + 1)]\n",
    "\n",
    "# 5. Reordenar las columnas del DataFrame final\n",
    "headers_finales = ['idFacturaDetalle', 'idFactura', 'concepto', 'idDoctor', 'cant', 'iva']\n",
    "df_factura_norte_detalle = df_factura_norte_detalle[headers_finales]\n",
    "\n",
    "# 6. Mostrar el resultado para la zona norte\n",
    "print(\"\\n--- Muestra de df_factura_norte_detalle ---\")\n",
    "print(df_factura_norte_detalle.head())\n",
    "print(f\"\\nTotal de registros en Norte: {len(df_factura_norte_detalle)}\")\n",
    "print(f\"Doctores únicos asignados en Norte: {df_factura_norte_detalle['idDoctor'].nunique()}\")"
   ],
   "id": "2fe435c2c7f90744",
   "outputs": [
    {
     "name": "stdout",
     "output_type": "stream",
     "text": [
      "\n",
      "--- Muestra de df_factura_norte_detalle ---\n",
      "  idFacturaDetalle idFactura concepto idDoctor  cant   iva\n",
      "0        FADN00001   FAN0001    CP006    DR073     1  16.0\n",
      "1        FADN00002   FAN0001    CP006    DR156     2  16.0\n",
      "2        FADN00003   FAN0001    CP007    DR175     2  16.0\n",
      "3        FADN00004   FAN0002    CP007    DR139     2  16.0\n",
      "4        FADN00005   FAN0002    CP002    DR071     2  16.0\n",
      "\n",
      "Total de registros en Norte: 15062\n",
      "Doctores únicos asignados en Norte: 175\n"
     ]
    }
   ],
   "execution_count": 77
  },
  {
   "metadata": {
    "ExecuteTime": {
     "end_time": "2025-10-06T05:16:42.169080Z",
     "start_time": "2025-10-06T05:16:42.163291Z"
    }
   },
   "cell_type": "code",
   "source": "df_factura_norte_detalle[\"idDoctor\"].value_counts()",
   "id": "e9ffdeefd4aae1e5",
   "outputs": [
    {
     "data": {
      "text/plain": [
       "idDoctor\n",
       "DR135    120\n",
       "DR167    111\n",
       "DR123    110\n",
       "DR075    109\n",
       "DR143    107\n",
       "        ... \n",
       "DR161     70\n",
       "DR074     70\n",
       "DR145     68\n",
       "DR130     65\n",
       "DR140     62\n",
       "Name: count, Length: 175, dtype: int64"
      ]
     },
     "execution_count": 78,
     "metadata": {},
     "output_type": "execute_result"
    }
   ],
   "execution_count": 78
  },
  {
   "metadata": {
    "ExecuteTime": {
     "end_time": "2025-10-06T05:16:42.513856Z",
     "start_time": "2025-10-06T05:16:42.269778Z"
    }
   },
   "cell_type": "code",
   "source": [
    "# 1. Crear una lista de registros base (diccionarios) para la zona sur\n",
    "registros_sur = []\n",
    "for id_factura in series_id_facturas_sur:\n",
    "    num_conceptos = np.random.randint(1, 5) # De 1 a 4 conceptos por factura\n",
    "    for _ in range(num_conceptos):\n",
    "        registro = {\n",
    "            'idFactura': id_factura,\n",
    "            'concepto': np.random.choice(series_id_conceptos),\n",
    "            'cant': np.random.randint(1, 6),\n",
    "            'iva': 16.00\n",
    "        }\n",
    "        registros_sur.append(registro)\n",
    "\n",
    "# 2. Convertir la lista de registros a un DataFrame\n",
    "df_factura_sur_detalle = pd.DataFrame(registros_sur)\n",
    "\n",
    "# 3. Asignar doctores (Lógica corregida y robusta)\n",
    "total_registros_sur = len(df_factura_sur_detalle)\n",
    "doctores_sur_unicos = series_id_doctores_sur.tolist()\n",
    "\n",
    "if total_registros_sur < len(doctores_sur_unicos):\n",
    "    # Si no hay suficientes registros para cada doctor, se notifica\n",
    "    # y se asignan doctores aleatoriamente del total disponible.\n",
    "    print(\"ADVERTENCIA (Zona Sur): No se generaron suficientes registros para asignar a cada doctor al menos una vez.\")\n",
    "    asignaciones_finales_sur = np.random.choice(doctores_sur_unicos, size=total_registros_sur).tolist()\n",
    "else:\n",
    "    # Si hay suficientes registros, se aplica la lógica original.\n",
    "    num_extra_sur = total_registros_sur - len(doctores_sur_unicos)\n",
    "    asignaciones_extra_sur = np.random.choice(doctores_sur_unicos, size=num_extra_sur).tolist()\n",
    "    asignaciones_finales_sur = doctores_sur_unicos + asignaciones_extra_sur\n",
    "    np.random.shuffle(asignaciones_finales_sur)\n",
    "\n",
    "df_factura_sur_detalle['idDoctor'] = asignaciones_finales_sur\n",
    "\n",
    "# 4. Asignar un ID secuencial único para cada detalle\n",
    "num_filas_sur = len(df_factura_sur_detalle)\n",
    "df_factura_sur_detalle['idFacturaDetalle'] = [f\"FADS{i:05d}\" for i in range(1, num_filas_sur + 1)]\n",
    "\n",
    "# 5. Reordenar las columnas del DataFrame final\n",
    "headers_finales = ['idFacturaDetalle', 'idFactura', 'concepto', 'idDoctor', 'cant', 'iva']\n",
    "df_factura_sur_detalle = df_factura_sur_detalle[headers_finales]\n",
    "\n",
    "# 6. Mostrar el resultado para la zona sur\n",
    "print(\"--- Muestra de df_factura_sur_detalle ---\")\n",
    "print(df_factura_sur_detalle.head())\n",
    "print(f\"\\nTotal de registros en Sur: {len(df_factura_sur_detalle)}\")\n",
    "print(f\"Doctores únicos asignados en Sur: {df_factura_sur_detalle['idDoctor'].nunique()}\")"
   ],
   "id": "78de94db3cdec5d5",
   "outputs": [
    {
     "name": "stdout",
     "output_type": "stream",
     "text": [
      "--- Muestra de df_factura_sur_detalle ---\n",
      "  idFacturaDetalle idFactura concepto idDoctor  cant   iva\n",
      "0        FADS00001   FAS0001    CP007    DR290     4  16.0\n",
      "1        FADS00002   FAS0001    CP001    DR263     1  16.0\n",
      "2        FADS00003   FAS0001    CP005    DR288     5  16.0\n",
      "3        FADS00004   FAS0001    CP002    DR225     4  16.0\n",
      "4        FADS00005   FAS0002    CP005    DR345     2  16.0\n",
      "\n",
      "Total de registros en Sur: 14957\n",
      "Doctores únicos asignados en Sur: 175\n"
     ]
    }
   ],
   "execution_count": 79
  },
  {
   "metadata": {
    "ExecuteTime": {
     "end_time": "2025-10-06T05:17:22.073341Z",
     "start_time": "2025-10-06T05:17:22.066586Z"
    }
   },
   "cell_type": "code",
   "source": "df_factura_norte_detalle[\"idFactura\"].value_counts()",
   "id": "fb486da9341ee0af",
   "outputs": [
    {
     "data": {
      "text/plain": [
       "idFactura\n",
       "FAN3001    4\n",
       "FAN3875    4\n",
       "FAN1442    4\n",
       "FAN1440    4\n",
       "FAN3860    4\n",
       "          ..\n",
       "FAN4710    1\n",
       "FAN1800    1\n",
       "FAN0883    1\n",
       "FAN1798    1\n",
       "FAN6000    1\n",
       "Name: count, Length: 6000, dtype: int64"
      ]
     },
     "execution_count": 84,
     "metadata": {},
     "output_type": "execute_result"
    }
   ],
   "execution_count": 84
  },
  {
   "metadata": {
    "ExecuteTime": {
     "end_time": "2025-10-06T05:25:18.185268Z",
     "start_time": "2025-10-06T05:25:18.176389Z"
    }
   },
   "cell_type": "code",
   "source": "df_factura_sur_detalle",
   "id": "fd0711f01f1beb65",
   "outputs": [
    {
     "data": {
      "text/plain": [
       "      idFacturaDetalle idFactura concepto idDoctor  cant   iva\n",
       "0            FADS00001   FAS0001    CP007    DR290     4  16.0\n",
       "1            FADS00002   FAS0001    CP001    DR263     1  16.0\n",
       "2            FADS00003   FAS0001    CP005    DR288     5  16.0\n",
       "3            FADS00004   FAS0001    CP002    DR225     4  16.0\n",
       "4            FADS00005   FAS0002    CP005    DR345     2  16.0\n",
       "...                ...       ...      ...      ...   ...   ...\n",
       "14952        FADS14953   FAS5999    CP001    DR283     1  16.0\n",
       "14953        FADS14954   FAS5999    CP001    DR246     2  16.0\n",
       "14954        FADS14955   FAS6000    CP002    DR315     2  16.0\n",
       "14955        FADS14956   FAS6000    CP002    DR297     2  16.0\n",
       "14956        FADS14957   FAS6000    CP002    DR334     3  16.0\n",
       "\n",
       "[14957 rows x 6 columns]"
      ],
      "text/html": [
       "<div>\n",
       "<style scoped>\n",
       "    .dataframe tbody tr th:only-of-type {\n",
       "        vertical-align: middle;\n",
       "    }\n",
       "\n",
       "    .dataframe tbody tr th {\n",
       "        vertical-align: top;\n",
       "    }\n",
       "\n",
       "    .dataframe thead th {\n",
       "        text-align: right;\n",
       "    }\n",
       "</style>\n",
       "<table border=\"1\" class=\"dataframe\">\n",
       "  <thead>\n",
       "    <tr style=\"text-align: right;\">\n",
       "      <th></th>\n",
       "      <th>idFacturaDetalle</th>\n",
       "      <th>idFactura</th>\n",
       "      <th>concepto</th>\n",
       "      <th>idDoctor</th>\n",
       "      <th>cant</th>\n",
       "      <th>iva</th>\n",
       "    </tr>\n",
       "  </thead>\n",
       "  <tbody>\n",
       "    <tr>\n",
       "      <th>0</th>\n",
       "      <td>FADS00001</td>\n",
       "      <td>FAS0001</td>\n",
       "      <td>CP007</td>\n",
       "      <td>DR290</td>\n",
       "      <td>4</td>\n",
       "      <td>16.0</td>\n",
       "    </tr>\n",
       "    <tr>\n",
       "      <th>1</th>\n",
       "      <td>FADS00002</td>\n",
       "      <td>FAS0001</td>\n",
       "      <td>CP001</td>\n",
       "      <td>DR263</td>\n",
       "      <td>1</td>\n",
       "      <td>16.0</td>\n",
       "    </tr>\n",
       "    <tr>\n",
       "      <th>2</th>\n",
       "      <td>FADS00003</td>\n",
       "      <td>FAS0001</td>\n",
       "      <td>CP005</td>\n",
       "      <td>DR288</td>\n",
       "      <td>5</td>\n",
       "      <td>16.0</td>\n",
       "    </tr>\n",
       "    <tr>\n",
       "      <th>3</th>\n",
       "      <td>FADS00004</td>\n",
       "      <td>FAS0001</td>\n",
       "      <td>CP002</td>\n",
       "      <td>DR225</td>\n",
       "      <td>4</td>\n",
       "      <td>16.0</td>\n",
       "    </tr>\n",
       "    <tr>\n",
       "      <th>4</th>\n",
       "      <td>FADS00005</td>\n",
       "      <td>FAS0002</td>\n",
       "      <td>CP005</td>\n",
       "      <td>DR345</td>\n",
       "      <td>2</td>\n",
       "      <td>16.0</td>\n",
       "    </tr>\n",
       "    <tr>\n",
       "      <th>...</th>\n",
       "      <td>...</td>\n",
       "      <td>...</td>\n",
       "      <td>...</td>\n",
       "      <td>...</td>\n",
       "      <td>...</td>\n",
       "      <td>...</td>\n",
       "    </tr>\n",
       "    <tr>\n",
       "      <th>14952</th>\n",
       "      <td>FADS14953</td>\n",
       "      <td>FAS5999</td>\n",
       "      <td>CP001</td>\n",
       "      <td>DR283</td>\n",
       "      <td>1</td>\n",
       "      <td>16.0</td>\n",
       "    </tr>\n",
       "    <tr>\n",
       "      <th>14953</th>\n",
       "      <td>FADS14954</td>\n",
       "      <td>FAS5999</td>\n",
       "      <td>CP001</td>\n",
       "      <td>DR246</td>\n",
       "      <td>2</td>\n",
       "      <td>16.0</td>\n",
       "    </tr>\n",
       "    <tr>\n",
       "      <th>14954</th>\n",
       "      <td>FADS14955</td>\n",
       "      <td>FAS6000</td>\n",
       "      <td>CP002</td>\n",
       "      <td>DR315</td>\n",
       "      <td>2</td>\n",
       "      <td>16.0</td>\n",
       "    </tr>\n",
       "    <tr>\n",
       "      <th>14955</th>\n",
       "      <td>FADS14956</td>\n",
       "      <td>FAS6000</td>\n",
       "      <td>CP002</td>\n",
       "      <td>DR297</td>\n",
       "      <td>2</td>\n",
       "      <td>16.0</td>\n",
       "    </tr>\n",
       "    <tr>\n",
       "      <th>14956</th>\n",
       "      <td>FADS14957</td>\n",
       "      <td>FAS6000</td>\n",
       "      <td>CP002</td>\n",
       "      <td>DR334</td>\n",
       "      <td>3</td>\n",
       "      <td>16.0</td>\n",
       "    </tr>\n",
       "  </tbody>\n",
       "</table>\n",
       "<p>14957 rows × 6 columns</p>\n",
       "</div>"
      ]
     },
     "execution_count": 85,
     "metadata": {},
     "output_type": "execute_result"
    }
   ],
   "execution_count": 85
  },
  {
   "metadata": {
    "ExecuteTime": {
     "end_time": "2025-10-06T05:16:43.009653Z",
     "start_time": "2025-10-06T05:16:42.985517Z"
    }
   },
   "cell_type": "code",
   "source": [
    "df_factura_sur_detalle.to_csv(\n",
    "    \"new_csv/factura_detalle_sur.csv\",  # Nombre del archivo de salida\n",
    "    index=False,             # No incluir la columna de índice (0, 1, 2, ...)\n",
    "    header=False\n",
    ")"
   ],
   "id": "37f139079e316244",
   "outputs": [],
   "execution_count": 82
  },
  {
   "metadata": {
    "ExecuteTime": {
     "end_time": "2025-10-06T05:16:43.118122Z",
     "start_time": "2025-10-06T05:16:43.097443Z"
    }
   },
   "cell_type": "code",
   "source": [
    "df_factura_norte_detalle.to_csv(\n",
    "    \"new_csv/factura_detalle_norte.csv\",  # Nombre del archivo de salida\n",
    "    index=False,             # No incluir la columna de índice (0, 1, 2, ...)\n",
    "    header=False\n",
    ")"
   ],
   "id": "d7a74872d4f2630a",
   "outputs": [],
   "execution_count": 83
  }
 ],
 "metadata": {
  "kernelspec": {
   "display_name": "Python 3",
   "language": "python",
   "name": "python3"
  },
  "language_info": {
   "codemirror_mode": {
    "name": "ipython",
    "version": 2
   },
   "file_extension": ".py",
   "mimetype": "text/x-python",
   "name": "python",
   "nbconvert_exporter": "python",
   "pygments_lexer": "ipython2",
   "version": "2.7.6"
  }
 },
 "nbformat": 4,
 "nbformat_minor": 5
}
