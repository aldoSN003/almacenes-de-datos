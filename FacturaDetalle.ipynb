{
 "cells": [
  {
   "metadata": {
    "ExecuteTime": {
     "end_time": "2025-10-06T04:30:31.323729Z",
     "start_time": "2025-10-06T04:30:31.311581Z"
    }
   },
   "cell_type": "code",
   "source": [
    "import pandas as pd\n",
    "\n",
    "headers_factura= ['idFactura', 'idpaciente', 'fecha', \"idHosp\"]\n",
    "\n",
    "\n",
    "df_factura_sur = pd.read_csv(\"new_csv/factura_sur.csv\", header=None, names=headers_factura)\n",
    "df_factura_norte = pd.read_csv(\"new_csv/factura_norte.csv\", header=None,names=headers_factura)"
   ],
   "id": "f640f65540598552",
   "outputs": [],
   "execution_count": 8
  },
  {
   "metadata": {
    "ExecuteTime": {
     "end_time": "2025-10-06T04:30:48.423241Z",
     "start_time": "2025-10-06T04:30:48.420087Z"
    }
   },
   "cell_type": "code",
   "source": "df_factura_sur.columns",
   "id": "83669431cf93dbc5",
   "outputs": [
    {
     "data": {
      "text/plain": [
       "Index(['idFactura', 'idpaciente', 'fecha', 'idHosp'], dtype='object')"
      ]
     },
     "execution_count": 11,
     "metadata": {},
     "output_type": "execute_result"
    }
   ],
   "execution_count": 11
  }
 ],
 "metadata": {
  "kernelspec": {
   "display_name": "Python 3",
   "language": "python",
   "name": "python3"
  },
  "language_info": {
   "codemirror_mode": {
    "name": "ipython",
    "version": 2
   },
   "file_extension": ".py",
   "mimetype": "text/x-python",
   "name": "python",
   "nbconvert_exporter": "python",
   "pygments_lexer": "ipython2",
   "version": "2.7.6"
  }
 },
 "nbformat": 4,
 "nbformat_minor": 5
}
