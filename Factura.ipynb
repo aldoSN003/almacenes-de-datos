{
 "cells": [
  {
   "cell_type": "code",
   "id": "initial_id",
   "metadata": {
    "collapsed": true,
    "ExecuteTime": {
     "end_time": "2025-10-06T03:27:27.871436Z",
     "start_time": "2025-10-06T03:27:27.867793Z"
    }
   },
   "source": [
    "import pandas as pd\n",
    "\n",
    "\n",
    "headers_factura= ['idFactura', 'idpaciente', 'fecha', \"idHosp\"]\n",
    "\n",
    "\n",
    "df_factura_sur = pd.DataFrame(columns=headers_factura)\n",
    "df_factura_norte = pd.DataFrame(columns=headers_factura)"
   ],
   "outputs": [],
   "execution_count": 32
  },
  {
   "metadata": {
    "ExecuteTime": {
     "end_time": "2025-10-06T03:27:27.882270Z",
     "start_time": "2025-10-06T03:27:27.876440Z"
    }
   },
   "cell_type": "code",
   "source": [
    "hospitals_headers = ['idHosp', 'nombre', 'id_ciudad'] # <--- Ajusta estos nombres según tu CSV\n",
    "\n",
    "df_hospitales_norte = pd.read_csv(\n",
    "    \"zona_norte/hospitales.csv\",\n",
    "    header=None,\n",
    "    names=hospitals_headers\n",
    ")\n",
    "df_hospitales_sur = pd.read_csv(\n",
    "    \"zona_sur/hospitales.csv\",\n",
    "    header=None,\n",
    "    names=hospitals_headers\n",
    ")\n",
    "\n"
   ],
   "id": "c5607b716b4cf65a",
   "outputs": [],
   "execution_count": 33
  },
  {
   "metadata": {
    "ExecuteTime": {
     "end_time": "2025-10-06T03:27:27.926683Z",
     "start_time": "2025-10-06T03:27:27.924101Z"
    }
   },
   "cell_type": "code",
   "source": [
    "series_id_hospitales_sur = df_hospitales_sur[\"idHosp\"]\n",
    "series_id_hospitales_norte = df_hospitales_norte[\"idHosp\"]\n",
    "\n"
   ],
   "id": "a8a4bdebcc3ae1a1",
   "outputs": [],
   "execution_count": 34
  },
  {
   "metadata": {},
   "cell_type": "markdown",
   "source": "# ID'S SECUENCIALES",
   "id": "b2b319154df21ad1"
  },
  {
   "metadata": {
    "ExecuteTime": {
     "end_time": "2025-10-06T03:27:27.976802Z",
     "start_time": "2025-10-06T03:27:27.973112Z"
    }
   },
   "cell_type": "code",
   "source": [
    "def asignar_ids_secuenciales(\n",
    "    df_destino,\n",
    "    columna_destino: str,\n",
    "    prefijo: str,\n",
    "    cantidad: int,\n",
    "    padding: int = 3,\n",
    "    start: int = 1\n",
    "):\n",
    "    \"\"\"\n",
    "    Asigna IDs secuenciales a un DataFrame ya creado.\n",
    "\n",
    "    Parámetros:\n",
    "    -----------\n",
    "    df_destino : pd.DataFrame\n",
    "        DataFrame al cual se le asignarán los IDs.\n",
    "    columna_destino : str\n",
    "        Nombre de la columna donde se guardarán los IDs.\n",
    "    prefijo : str\n",
    "        Prefijo del identificador (ej: \"PA\" para pacientes).\n",
    "    cantidad : int\n",
    "        Número total de IDs a generar.\n",
    "    padding : int, opcional (default=3)\n",
    "        Número de dígitos para el número secuencial (ej: 3 -> 001).\n",
    "    start : int, opcional (default=1)\n",
    "        Número desde el cual comenzar la secuencia.\n",
    "\n",
    "    Retorna:\n",
    "    --------\n",
    "    pd.DataFrame\n",
    "        El mismo DataFrame con la columna de IDs asignada.\n",
    "    \"\"\"\n",
    "    ids = [f\"{prefijo}{i:0{padding}d}\" for i in range(start, start + cantidad)]\n",
    "    df_destino[columna_destino] = ids\n",
    "    return df_destino\n"
   ],
   "id": "b498991789cdf0f6",
   "outputs": [],
   "execution_count": 35
  },
  {
   "metadata": {
    "ExecuteTime": {
     "end_time": "2025-10-06T03:27:28.026614Z",
     "start_time": "2025-10-06T03:27:28.020566Z"
    }
   },
   "cell_type": "code",
   "source": [
    "df_factura_sur = asignar_ids_secuenciales(\n",
    "    df_destino=df_factura_sur,\n",
    "    columna_destino=\"idFactura\",\n",
    "    prefijo=\"FAS\",\n",
    "    cantidad=6000,\n",
    "    padding=4\n",
    ")"
   ],
   "id": "ee5edd864036028f",
   "outputs": [],
   "execution_count": 36
  },
  {
   "metadata": {
    "ExecuteTime": {
     "end_time": "2025-10-06T03:27:28.086028Z",
     "start_time": "2025-10-06T03:27:28.079655Z"
    }
   },
   "cell_type": "code",
   "source": "df_factura_sur",
   "id": "8629bfe16c4ef9bd",
   "outputs": [
    {
     "data": {
      "text/plain": [
       "     idFactura idpaciente fecha idHosp\n",
       "0      FAS0001        NaN   NaN    NaN\n",
       "1      FAS0002        NaN   NaN    NaN\n",
       "2      FAS0003        NaN   NaN    NaN\n",
       "3      FAS0004        NaN   NaN    NaN\n",
       "4      FAS0005        NaN   NaN    NaN\n",
       "...        ...        ...   ...    ...\n",
       "5995   FAS5996        NaN   NaN    NaN\n",
       "5996   FAS5997        NaN   NaN    NaN\n",
       "5997   FAS5998        NaN   NaN    NaN\n",
       "5998   FAS5999        NaN   NaN    NaN\n",
       "5999   FAS6000        NaN   NaN    NaN\n",
       "\n",
       "[6000 rows x 4 columns]"
      ],
      "text/html": [
       "<div>\n",
       "<style scoped>\n",
       "    .dataframe tbody tr th:only-of-type {\n",
       "        vertical-align: middle;\n",
       "    }\n",
       "\n",
       "    .dataframe tbody tr th {\n",
       "        vertical-align: top;\n",
       "    }\n",
       "\n",
       "    .dataframe thead th {\n",
       "        text-align: right;\n",
       "    }\n",
       "</style>\n",
       "<table border=\"1\" class=\"dataframe\">\n",
       "  <thead>\n",
       "    <tr style=\"text-align: right;\">\n",
       "      <th></th>\n",
       "      <th>idFactura</th>\n",
       "      <th>idpaciente</th>\n",
       "      <th>fecha</th>\n",
       "      <th>idHosp</th>\n",
       "    </tr>\n",
       "  </thead>\n",
       "  <tbody>\n",
       "    <tr>\n",
       "      <th>0</th>\n",
       "      <td>FAS0001</td>\n",
       "      <td>NaN</td>\n",
       "      <td>NaN</td>\n",
       "      <td>NaN</td>\n",
       "    </tr>\n",
       "    <tr>\n",
       "      <th>1</th>\n",
       "      <td>FAS0002</td>\n",
       "      <td>NaN</td>\n",
       "      <td>NaN</td>\n",
       "      <td>NaN</td>\n",
       "    </tr>\n",
       "    <tr>\n",
       "      <th>2</th>\n",
       "      <td>FAS0003</td>\n",
       "      <td>NaN</td>\n",
       "      <td>NaN</td>\n",
       "      <td>NaN</td>\n",
       "    </tr>\n",
       "    <tr>\n",
       "      <th>3</th>\n",
       "      <td>FAS0004</td>\n",
       "      <td>NaN</td>\n",
       "      <td>NaN</td>\n",
       "      <td>NaN</td>\n",
       "    </tr>\n",
       "    <tr>\n",
       "      <th>4</th>\n",
       "      <td>FAS0005</td>\n",
       "      <td>NaN</td>\n",
       "      <td>NaN</td>\n",
       "      <td>NaN</td>\n",
       "    </tr>\n",
       "    <tr>\n",
       "      <th>...</th>\n",
       "      <td>...</td>\n",
       "      <td>...</td>\n",
       "      <td>...</td>\n",
       "      <td>...</td>\n",
       "    </tr>\n",
       "    <tr>\n",
       "      <th>5995</th>\n",
       "      <td>FAS5996</td>\n",
       "      <td>NaN</td>\n",
       "      <td>NaN</td>\n",
       "      <td>NaN</td>\n",
       "    </tr>\n",
       "    <tr>\n",
       "      <th>5996</th>\n",
       "      <td>FAS5997</td>\n",
       "      <td>NaN</td>\n",
       "      <td>NaN</td>\n",
       "      <td>NaN</td>\n",
       "    </tr>\n",
       "    <tr>\n",
       "      <th>5997</th>\n",
       "      <td>FAS5998</td>\n",
       "      <td>NaN</td>\n",
       "      <td>NaN</td>\n",
       "      <td>NaN</td>\n",
       "    </tr>\n",
       "    <tr>\n",
       "      <th>5998</th>\n",
       "      <td>FAS5999</td>\n",
       "      <td>NaN</td>\n",
       "      <td>NaN</td>\n",
       "      <td>NaN</td>\n",
       "    </tr>\n",
       "    <tr>\n",
       "      <th>5999</th>\n",
       "      <td>FAS6000</td>\n",
       "      <td>NaN</td>\n",
       "      <td>NaN</td>\n",
       "      <td>NaN</td>\n",
       "    </tr>\n",
       "  </tbody>\n",
       "</table>\n",
       "<p>6000 rows × 4 columns</p>\n",
       "</div>"
      ]
     },
     "execution_count": 37,
     "metadata": {},
     "output_type": "execute_result"
    }
   ],
   "execution_count": 37
  },
  {
   "metadata": {
    "ExecuteTime": {
     "end_time": "2025-10-06T03:27:28.209966Z",
     "start_time": "2025-10-06T03:27:28.203913Z"
    }
   },
   "cell_type": "code",
   "source": [
    "# Asignar 120 facturas a df_factura_norte\n",
    "df_factura_norte = asignar_ids_secuenciales(\n",
    "    df_destino=df_factura_norte,\n",
    "    columna_destino=\"idFactura\",\n",
    "    prefijo=\"FAN\",\n",
    "    cantidad=6000,\n",
    "    padding=4,\n",
    "\n",
    ")"
   ],
   "id": "e94bdf14d9d4f5ca",
   "outputs": [],
   "execution_count": 38
  },
  {
   "metadata": {
    "ExecuteTime": {
     "end_time": "2025-10-06T03:27:28.343773Z",
     "start_time": "2025-10-06T03:27:28.336865Z"
    }
   },
   "cell_type": "code",
   "source": "df_factura_norte",
   "id": "677a3c3b3f79091b",
   "outputs": [
    {
     "data": {
      "text/plain": [
       "     idFactura idpaciente fecha idHosp\n",
       "0      FAN0001        NaN   NaN    NaN\n",
       "1      FAN0002        NaN   NaN    NaN\n",
       "2      FAN0003        NaN   NaN    NaN\n",
       "3      FAN0004        NaN   NaN    NaN\n",
       "4      FAN0005        NaN   NaN    NaN\n",
       "...        ...        ...   ...    ...\n",
       "5995   FAN5996        NaN   NaN    NaN\n",
       "5996   FAN5997        NaN   NaN    NaN\n",
       "5997   FAN5998        NaN   NaN    NaN\n",
       "5998   FAN5999        NaN   NaN    NaN\n",
       "5999   FAN6000        NaN   NaN    NaN\n",
       "\n",
       "[6000 rows x 4 columns]"
      ],
      "text/html": [
       "<div>\n",
       "<style scoped>\n",
       "    .dataframe tbody tr th:only-of-type {\n",
       "        vertical-align: middle;\n",
       "    }\n",
       "\n",
       "    .dataframe tbody tr th {\n",
       "        vertical-align: top;\n",
       "    }\n",
       "\n",
       "    .dataframe thead th {\n",
       "        text-align: right;\n",
       "    }\n",
       "</style>\n",
       "<table border=\"1\" class=\"dataframe\">\n",
       "  <thead>\n",
       "    <tr style=\"text-align: right;\">\n",
       "      <th></th>\n",
       "      <th>idFactura</th>\n",
       "      <th>idpaciente</th>\n",
       "      <th>fecha</th>\n",
       "      <th>idHosp</th>\n",
       "    </tr>\n",
       "  </thead>\n",
       "  <tbody>\n",
       "    <tr>\n",
       "      <th>0</th>\n",
       "      <td>FAN0001</td>\n",
       "      <td>NaN</td>\n",
       "      <td>NaN</td>\n",
       "      <td>NaN</td>\n",
       "    </tr>\n",
       "    <tr>\n",
       "      <th>1</th>\n",
       "      <td>FAN0002</td>\n",
       "      <td>NaN</td>\n",
       "      <td>NaN</td>\n",
       "      <td>NaN</td>\n",
       "    </tr>\n",
       "    <tr>\n",
       "      <th>2</th>\n",
       "      <td>FAN0003</td>\n",
       "      <td>NaN</td>\n",
       "      <td>NaN</td>\n",
       "      <td>NaN</td>\n",
       "    </tr>\n",
       "    <tr>\n",
       "      <th>3</th>\n",
       "      <td>FAN0004</td>\n",
       "      <td>NaN</td>\n",
       "      <td>NaN</td>\n",
       "      <td>NaN</td>\n",
       "    </tr>\n",
       "    <tr>\n",
       "      <th>4</th>\n",
       "      <td>FAN0005</td>\n",
       "      <td>NaN</td>\n",
       "      <td>NaN</td>\n",
       "      <td>NaN</td>\n",
       "    </tr>\n",
       "    <tr>\n",
       "      <th>...</th>\n",
       "      <td>...</td>\n",
       "      <td>...</td>\n",
       "      <td>...</td>\n",
       "      <td>...</td>\n",
       "    </tr>\n",
       "    <tr>\n",
       "      <th>5995</th>\n",
       "      <td>FAN5996</td>\n",
       "      <td>NaN</td>\n",
       "      <td>NaN</td>\n",
       "      <td>NaN</td>\n",
       "    </tr>\n",
       "    <tr>\n",
       "      <th>5996</th>\n",
       "      <td>FAN5997</td>\n",
       "      <td>NaN</td>\n",
       "      <td>NaN</td>\n",
       "      <td>NaN</td>\n",
       "    </tr>\n",
       "    <tr>\n",
       "      <th>5997</th>\n",
       "      <td>FAN5998</td>\n",
       "      <td>NaN</td>\n",
       "      <td>NaN</td>\n",
       "      <td>NaN</td>\n",
       "    </tr>\n",
       "    <tr>\n",
       "      <th>5998</th>\n",
       "      <td>FAN5999</td>\n",
       "      <td>NaN</td>\n",
       "      <td>NaN</td>\n",
       "      <td>NaN</td>\n",
       "    </tr>\n",
       "    <tr>\n",
       "      <th>5999</th>\n",
       "      <td>FAN6000</td>\n",
       "      <td>NaN</td>\n",
       "      <td>NaN</td>\n",
       "      <td>NaN</td>\n",
       "    </tr>\n",
       "  </tbody>\n",
       "</table>\n",
       "<p>6000 rows × 4 columns</p>\n",
       "</div>"
      ]
     },
     "execution_count": 39,
     "metadata": {},
     "output_type": "execute_result"
    }
   ],
   "execution_count": 39
  },
  {
   "metadata": {},
   "cell_type": "markdown",
   "source": "## Id hospitales",
   "id": "6802274e16cc3ce6"
  },
  {
   "metadata": {
    "ExecuteTime": {
     "end_time": "2025-10-06T03:34:36.948747Z",
     "start_time": "2025-10-06T03:34:36.945168Z"
    }
   },
   "cell_type": "code",
   "source": [
    "import numpy as np\n",
    "\n",
    "def asignar_hospitales(df_destino, columna_destino, hospitales, facturas_por_hosp, shuffle=False, random_state=None):\n",
    "    \"\"\"\n",
    "    Asigna IDs de hospitales a un DataFrame, garantizando un número\n",
    "    fijo de facturas por hospital.\n",
    "    \"\"\"\n",
    "    # Convertir a array plano (sin índices de pandas)\n",
    "    hospitales = np.array(hospitales)\n",
    "\n",
    "    # Expandir los hospitales: cada uno se repite `facturas_por_hosp` veces\n",
    "    id_hosp_list = np.repeat(hospitales, facturas_por_hosp)\n",
    "\n",
    "    # Mezclar si es necesario\n",
    "    if shuffle:\n",
    "        rng = np.random.default_rng(random_state)\n",
    "        rng.shuffle(id_hosp_list)\n",
    "\n",
    "    # Verificar tamaño\n",
    "    if len(df_destino) != len(id_hosp_list):\n",
    "        raise ValueError(f\"El DataFrame tiene {len(df_destino)} filas pero se generaron {len(id_hosp_list)} IDs.\")\n",
    "\n",
    "    # Asignar al DataFrame\n",
    "    df_destino[columna_destino] = id_hosp_list\n",
    "    return df_destino\n"
   ],
   "id": "ba01c82623f9aff1",
   "outputs": [],
   "execution_count": 43
  },
  {
   "metadata": {
    "ExecuteTime": {
     "end_time": "2025-10-06T03:34:51.291055Z",
     "start_time": "2025-10-06T03:34:51.287657Z"
    }
   },
   "cell_type": "code",
   "source": [
    "# Asignar hospitales (100 facturas por hospital)\n",
    "df_factura_sur = asignar_hospitales(df_factura_sur, \"idHosp\", series_id_hospitales_sur, facturas_por_hosp=100)\n",
    "df_factura_norte = asignar_hospitales(df_factura_norte, \"idHosp\", series_id_hospitales_norte, facturas_por_hosp=100)\n"
   ],
   "id": "5fd0d33efea872f4",
   "outputs": [],
   "execution_count": 44
  },
  {
   "metadata": {
    "ExecuteTime": {
     "end_time": "2025-10-06T03:35:11.262218Z",
     "start_time": "2025-10-06T03:35:11.258001Z"
    }
   },
   "cell_type": "code",
   "source": "df_factura_norte[\"idHosp\"].value_counts()",
   "id": "d37f04b6e0a0671c",
   "outputs": [
    {
     "data": {
      "text/plain": [
       "idHosp\n",
       "HN01    100\n",
       "HN02    100\n",
       "HN33    100\n",
       "HN34    100\n",
       "HN35    100\n",
       "HN36    100\n",
       "HN37    100\n",
       "HN38    100\n",
       "HN39    100\n",
       "HN40    100\n",
       "HN41    100\n",
       "HN42    100\n",
       "HN43    100\n",
       "HN44    100\n",
       "HN45    100\n",
       "HN46    100\n",
       "HN47    100\n",
       "HN48    100\n",
       "HN49    100\n",
       "HN50    100\n",
       "HN51    100\n",
       "HN52    100\n",
       "HN53    100\n",
       "HN54    100\n",
       "HN55    100\n",
       "HN56    100\n",
       "HN57    100\n",
       "HN58    100\n",
       "HN59    100\n",
       "HN32    100\n",
       "HN31    100\n",
       "HN30    100\n",
       "HN15    100\n",
       "HN03    100\n",
       "HN04    100\n",
       "HN05    100\n",
       "HN06    100\n",
       "HN07    100\n",
       "HN08    100\n",
       "HN09    100\n",
       "HN10    100\n",
       "HN11    100\n",
       "HN12    100\n",
       "HN13    100\n",
       "HN14    100\n",
       "HN16    100\n",
       "HN29    100\n",
       "HN17    100\n",
       "HN18    100\n",
       "HN19    100\n",
       "HN20    100\n",
       "HN21    100\n",
       "HN22    100\n",
       "HN23    100\n",
       "HN24    100\n",
       "HN25    100\n",
       "HN26    100\n",
       "HN27    100\n",
       "HN28    100\n",
       "HN60    100\n",
       "Name: count, dtype: int64"
      ]
     },
     "execution_count": 46,
     "metadata": {},
     "output_type": "execute_result"
    }
   ],
   "execution_count": 46
  },
  {
   "metadata": {
    "ExecuteTime": {
     "end_time": "2025-10-06T03:35:56.370044Z",
     "start_time": "2025-10-06T03:35:56.364733Z"
    }
   },
   "cell_type": "code",
   "source": "df_factura_sur[\"idHosp\"].value_counts()",
   "id": "e38b82dd06fe7791",
   "outputs": [
    {
     "data": {
      "text/plain": [
       "idHosp\n",
       "HS01    100\n",
       "HS02    100\n",
       "HS33    100\n",
       "HS34    100\n",
       "HS35    100\n",
       "HS36    100\n",
       "HS37    100\n",
       "HS38    100\n",
       "HS39    100\n",
       "HS40    100\n",
       "HS41    100\n",
       "HS42    100\n",
       "HS43    100\n",
       "HS44    100\n",
       "HS45    100\n",
       "HS46    100\n",
       "HS47    100\n",
       "HS48    100\n",
       "HS49    100\n",
       "HS50    100\n",
       "HS51    100\n",
       "HS52    100\n",
       "HS53    100\n",
       "HS54    100\n",
       "HS55    100\n",
       "HS56    100\n",
       "HS57    100\n",
       "HS58    100\n",
       "HS59    100\n",
       "HS32    100\n",
       "HS31    100\n",
       "HS30    100\n",
       "HS15    100\n",
       "HS03    100\n",
       "HS04    100\n",
       "HS05    100\n",
       "HS06    100\n",
       "HS07    100\n",
       "HS08    100\n",
       "HS09    100\n",
       "HS10    100\n",
       "HS11    100\n",
       "HS12    100\n",
       "HS13    100\n",
       "HS14    100\n",
       "HS16    100\n",
       "HS29    100\n",
       "HS17    100\n",
       "HS18    100\n",
       "HS19    100\n",
       "HS20    100\n",
       "HS21    100\n",
       "HS22    100\n",
       "HS23    100\n",
       "HS24    100\n",
       "HS25    100\n",
       "HS26    100\n",
       "HS27    100\n",
       "HS28    100\n",
       "HS60    100\n",
       "Name: count, dtype: int64"
      ]
     },
     "execution_count": 47,
     "metadata": {},
     "output_type": "execute_result"
    }
   ],
   "execution_count": 47
  },
  {
   "metadata": {},
   "cell_type": "markdown",
   "source": "# ID PACIENTES",
   "id": "fe54aa5bbd1ef0bc"
  },
  {
   "metadata": {
    "ExecuteTime": {
     "end_time": "2025-10-06T03:39:45.357360Z",
     "start_time": "2025-10-06T03:39:45.347032Z"
    }
   },
   "cell_type": "code",
   "source": [
    "patients_headers = [\"idPaciente\", \"nombre\", \"edad\", \"sexo\", \"idCiudad\", \"idEtapaVida\"]\n",
    "\n",
    "df_pacientes = pd.read_csv(\"new_csv/pacientes.csv\", header=None, names=patients_headers)\n",
    "df_pacientes\n"
   ],
   "id": "96a5fee81e4bd573",
   "outputs": [
    {
     "data": {
      "text/plain": [
       "    idPaciente                 nombre  edad sexo idCiudad idEtapaVida\n",
       "0        PA001          Abel Olivárez    40    F     CS20       DF002\n",
       "1        PA002           Sessa Méndez    40    F     CS09       DF002\n",
       "2        PA003         Indira Carrero    37    M     CS12       DF007\n",
       "3        PA004    José Carlos Almaraz    38    M     CS20       DF007\n",
       "4        PA005       Paulina Preciado    55    F     CS04       DF006\n",
       "..         ...                    ...   ...  ...      ...         ...\n",
       "295      PA296  María Eugenia Barajas    80    F     CN15       DF008\n",
       "296      PA297          Martha Rosado    74    M     CS04       DF001\n",
       "297      PA298       Hernán Benavídez    76    F     CS19       DF006\n",
       "298      PA299      José Emilio Loera    67    M     CS18       DF005\n",
       "299      PA300         Marcos Carrera    78    F     CS01       DF008\n",
       "\n",
       "[300 rows x 6 columns]"
      ],
      "text/html": [
       "<div>\n",
       "<style scoped>\n",
       "    .dataframe tbody tr th:only-of-type {\n",
       "        vertical-align: middle;\n",
       "    }\n",
       "\n",
       "    .dataframe tbody tr th {\n",
       "        vertical-align: top;\n",
       "    }\n",
       "\n",
       "    .dataframe thead th {\n",
       "        text-align: right;\n",
       "    }\n",
       "</style>\n",
       "<table border=\"1\" class=\"dataframe\">\n",
       "  <thead>\n",
       "    <tr style=\"text-align: right;\">\n",
       "      <th></th>\n",
       "      <th>idPaciente</th>\n",
       "      <th>nombre</th>\n",
       "      <th>edad</th>\n",
       "      <th>sexo</th>\n",
       "      <th>idCiudad</th>\n",
       "      <th>idEtapaVida</th>\n",
       "    </tr>\n",
       "  </thead>\n",
       "  <tbody>\n",
       "    <tr>\n",
       "      <th>0</th>\n",
       "      <td>PA001</td>\n",
       "      <td>Abel Olivárez</td>\n",
       "      <td>40</td>\n",
       "      <td>F</td>\n",
       "      <td>CS20</td>\n",
       "      <td>DF002</td>\n",
       "    </tr>\n",
       "    <tr>\n",
       "      <th>1</th>\n",
       "      <td>PA002</td>\n",
       "      <td>Sessa Méndez</td>\n",
       "      <td>40</td>\n",
       "      <td>F</td>\n",
       "      <td>CS09</td>\n",
       "      <td>DF002</td>\n",
       "    </tr>\n",
       "    <tr>\n",
       "      <th>2</th>\n",
       "      <td>PA003</td>\n",
       "      <td>Indira Carrero</td>\n",
       "      <td>37</td>\n",
       "      <td>M</td>\n",
       "      <td>CS12</td>\n",
       "      <td>DF007</td>\n",
       "    </tr>\n",
       "    <tr>\n",
       "      <th>3</th>\n",
       "      <td>PA004</td>\n",
       "      <td>José Carlos Almaraz</td>\n",
       "      <td>38</td>\n",
       "      <td>M</td>\n",
       "      <td>CS20</td>\n",
       "      <td>DF007</td>\n",
       "    </tr>\n",
       "    <tr>\n",
       "      <th>4</th>\n",
       "      <td>PA005</td>\n",
       "      <td>Paulina Preciado</td>\n",
       "      <td>55</td>\n",
       "      <td>F</td>\n",
       "      <td>CS04</td>\n",
       "      <td>DF006</td>\n",
       "    </tr>\n",
       "    <tr>\n",
       "      <th>...</th>\n",
       "      <td>...</td>\n",
       "      <td>...</td>\n",
       "      <td>...</td>\n",
       "      <td>...</td>\n",
       "      <td>...</td>\n",
       "      <td>...</td>\n",
       "    </tr>\n",
       "    <tr>\n",
       "      <th>295</th>\n",
       "      <td>PA296</td>\n",
       "      <td>María Eugenia Barajas</td>\n",
       "      <td>80</td>\n",
       "      <td>F</td>\n",
       "      <td>CN15</td>\n",
       "      <td>DF008</td>\n",
       "    </tr>\n",
       "    <tr>\n",
       "      <th>296</th>\n",
       "      <td>PA297</td>\n",
       "      <td>Martha Rosado</td>\n",
       "      <td>74</td>\n",
       "      <td>M</td>\n",
       "      <td>CS04</td>\n",
       "      <td>DF001</td>\n",
       "    </tr>\n",
       "    <tr>\n",
       "      <th>297</th>\n",
       "      <td>PA298</td>\n",
       "      <td>Hernán Benavídez</td>\n",
       "      <td>76</td>\n",
       "      <td>F</td>\n",
       "      <td>CS19</td>\n",
       "      <td>DF006</td>\n",
       "    </tr>\n",
       "    <tr>\n",
       "      <th>298</th>\n",
       "      <td>PA299</td>\n",
       "      <td>José Emilio Loera</td>\n",
       "      <td>67</td>\n",
       "      <td>M</td>\n",
       "      <td>CS18</td>\n",
       "      <td>DF005</td>\n",
       "    </tr>\n",
       "    <tr>\n",
       "      <th>299</th>\n",
       "      <td>PA300</td>\n",
       "      <td>Marcos Carrera</td>\n",
       "      <td>78</td>\n",
       "      <td>F</td>\n",
       "      <td>CS01</td>\n",
       "      <td>DF008</td>\n",
       "    </tr>\n",
       "  </tbody>\n",
       "</table>\n",
       "<p>300 rows × 6 columns</p>\n",
       "</div>"
      ]
     },
     "execution_count": 51,
     "metadata": {},
     "output_type": "execute_result"
    }
   ],
   "execution_count": 51
  },
  {
   "metadata": {
    "ExecuteTime": {
     "end_time": "2025-10-06T03:54:34.629658Z",
     "start_time": "2025-10-06T03:54:34.626890Z"
    }
   },
   "cell_type": "code",
   "source": [
    "series_id_pacientes_sur = df_pacientes[df_pacientes['idCiudad'].str.startswith('CS')]['idPaciente']\n",
    "series_id_pacientes_norte = df_pacientes[df_pacientes['idCiudad'].str.startswith('CN')]['idPaciente']"
   ],
   "id": "3bbd145e39c76e1b",
   "outputs": [],
   "execution_count": 77
  },
  {
   "metadata": {
    "ExecuteTime": {
     "end_time": "2025-10-06T03:55:46.905323Z",
     "start_time": "2025-10-06T03:55:46.900871Z"
    }
   },
   "cell_type": "code",
   "source": "series_id_pacientes_sur",
   "id": "f5ede9b6cbb83873",
   "outputs": [
    {
     "data": {
      "text/plain": [
       "0      PA001\n",
       "1      PA002\n",
       "2      PA003\n",
       "3      PA004\n",
       "4      PA005\n",
       "       ...  \n",
       "294    PA295\n",
       "296    PA297\n",
       "297    PA298\n",
       "298    PA299\n",
       "299    PA300\n",
       "Name: idPaciente, Length: 158, dtype: object"
      ]
     },
     "execution_count": 83,
     "metadata": {},
     "output_type": "execute_result"
    }
   ],
   "execution_count": 83
  },
  {
   "metadata": {
    "ExecuteTime": {
     "end_time": "2025-10-06T03:55:15.731086Z",
     "start_time": "2025-10-06T03:55:15.727900Z"
    }
   },
   "cell_type": "code",
   "source": [
    "import pandas as pd\n",
    "import numpy as np\n",
    "\n",
    "def asignar_valores_aleatorios(df_destino, nombre_columna, valores_origen):\n",
    "    \"\"\"\n",
    "    Asigna valores aleatorios de una lista o Serie a una columna de un DataFrame.\n",
    "\n",
    "    Args:\n",
    "        df_destino (pd.DataFrame): El DataFrame que será modificado.\n",
    "        nombre_columna (str): El nombre de la columna a crear o sobreescribir.\n",
    "        valores_origen (pd.Series or list or np.array): Una colección de valores\n",
    "                                                        de los que se elegirá al azar.\n",
    "\n",
    "    Returns:\n",
    "        pd.DataFrame: El DataFrame modificado.\n",
    "    \"\"\"\n",
    "    # 1. Extrae los valores disponibles para la selección.\n",
    "    #    Usamos .values para asegurar que trabajamos con un array de NumPy.\n",
    "    valores_disponibles = pd.Series(valores_origen).values\n",
    "\n",
    "    # 2. Determina el número de asignaciones necesarias.\n",
    "    num_asignaciones = len(df_destino)\n",
    "\n",
    "    # 3. Genera la selección aleatoria (permitiendo repeticiones).\n",
    "    valores_aleatorios = np.random.choice(\n",
    "        a=valores_disponibles,\n",
    "        size=num_asignaciones,\n",
    "        replace=True\n",
    "    )\n",
    "\n",
    "    # 4. Asigna los valores a la columna especificada.\n",
    "    df_destino[nombre_columna] = valores_aleatorios\n",
    "\n",
    "    return df_destino"
   ],
   "id": "41d1492961ef5f5d",
   "outputs": [],
   "execution_count": 80
  },
  {
   "metadata": {
    "ExecuteTime": {
     "end_time": "2025-10-06T03:55:18.006129Z",
     "start_time": "2025-10-06T03:55:17.998090Z"
    }
   },
   "cell_type": "code",
   "source": [
    "df_factura_sur = asignar_valores_aleatorios(\n",
    "    df_destino=df_factura_sur,\n",
    "    nombre_columna=\"idpaciente\",\n",
    "    valores_origen=series_id_pacientes_sur\n",
    ")\n",
    "df_factura_sur\n"
   ],
   "id": "75f798b96632bfb3",
   "outputs": [
    {
     "data": {
      "text/plain": [
       "     idFactura idpaciente fecha idHosp\n",
       "0      FAS0001      PA139   NaN   HS01\n",
       "1      FAS0002      PA026   NaN   HS01\n",
       "2      FAS0003      PA274   NaN   HS01\n",
       "3      FAS0004      PA236   NaN   HS01\n",
       "4      FAS0005      PA123   NaN   HS01\n",
       "...        ...        ...   ...    ...\n",
       "5995   FAS5996      PA055   NaN   HS60\n",
       "5996   FAS5997      PA171   NaN   HS60\n",
       "5997   FAS5998      PA155   NaN   HS60\n",
       "5998   FAS5999      PA217   NaN   HS60\n",
       "5999   FAS6000      PA007   NaN   HS60\n",
       "\n",
       "[6000 rows x 4 columns]"
      ],
      "text/html": [
       "<div>\n",
       "<style scoped>\n",
       "    .dataframe tbody tr th:only-of-type {\n",
       "        vertical-align: middle;\n",
       "    }\n",
       "\n",
       "    .dataframe tbody tr th {\n",
       "        vertical-align: top;\n",
       "    }\n",
       "\n",
       "    .dataframe thead th {\n",
       "        text-align: right;\n",
       "    }\n",
       "</style>\n",
       "<table border=\"1\" class=\"dataframe\">\n",
       "  <thead>\n",
       "    <tr style=\"text-align: right;\">\n",
       "      <th></th>\n",
       "      <th>idFactura</th>\n",
       "      <th>idpaciente</th>\n",
       "      <th>fecha</th>\n",
       "      <th>idHosp</th>\n",
       "    </tr>\n",
       "  </thead>\n",
       "  <tbody>\n",
       "    <tr>\n",
       "      <th>0</th>\n",
       "      <td>FAS0001</td>\n",
       "      <td>PA139</td>\n",
       "      <td>NaN</td>\n",
       "      <td>HS01</td>\n",
       "    </tr>\n",
       "    <tr>\n",
       "      <th>1</th>\n",
       "      <td>FAS0002</td>\n",
       "      <td>PA026</td>\n",
       "      <td>NaN</td>\n",
       "      <td>HS01</td>\n",
       "    </tr>\n",
       "    <tr>\n",
       "      <th>2</th>\n",
       "      <td>FAS0003</td>\n",
       "      <td>PA274</td>\n",
       "      <td>NaN</td>\n",
       "      <td>HS01</td>\n",
       "    </tr>\n",
       "    <tr>\n",
       "      <th>3</th>\n",
       "      <td>FAS0004</td>\n",
       "      <td>PA236</td>\n",
       "      <td>NaN</td>\n",
       "      <td>HS01</td>\n",
       "    </tr>\n",
       "    <tr>\n",
       "      <th>4</th>\n",
       "      <td>FAS0005</td>\n",
       "      <td>PA123</td>\n",
       "      <td>NaN</td>\n",
       "      <td>HS01</td>\n",
       "    </tr>\n",
       "    <tr>\n",
       "      <th>...</th>\n",
       "      <td>...</td>\n",
       "      <td>...</td>\n",
       "      <td>...</td>\n",
       "      <td>...</td>\n",
       "    </tr>\n",
       "    <tr>\n",
       "      <th>5995</th>\n",
       "      <td>FAS5996</td>\n",
       "      <td>PA055</td>\n",
       "      <td>NaN</td>\n",
       "      <td>HS60</td>\n",
       "    </tr>\n",
       "    <tr>\n",
       "      <th>5996</th>\n",
       "      <td>FAS5997</td>\n",
       "      <td>PA171</td>\n",
       "      <td>NaN</td>\n",
       "      <td>HS60</td>\n",
       "    </tr>\n",
       "    <tr>\n",
       "      <th>5997</th>\n",
       "      <td>FAS5998</td>\n",
       "      <td>PA155</td>\n",
       "      <td>NaN</td>\n",
       "      <td>HS60</td>\n",
       "    </tr>\n",
       "    <tr>\n",
       "      <th>5998</th>\n",
       "      <td>FAS5999</td>\n",
       "      <td>PA217</td>\n",
       "      <td>NaN</td>\n",
       "      <td>HS60</td>\n",
       "    </tr>\n",
       "    <tr>\n",
       "      <th>5999</th>\n",
       "      <td>FAS6000</td>\n",
       "      <td>PA007</td>\n",
       "      <td>NaN</td>\n",
       "      <td>HS60</td>\n",
       "    </tr>\n",
       "  </tbody>\n",
       "</table>\n",
       "<p>6000 rows × 4 columns</p>\n",
       "</div>"
      ]
     },
     "execution_count": 81,
     "metadata": {},
     "output_type": "execute_result"
    }
   ],
   "execution_count": 81
  },
  {
   "metadata": {
    "ExecuteTime": {
     "end_time": "2025-10-06T03:57:00.482834Z",
     "start_time": "2025-10-06T03:57:00.479572Z"
    }
   },
   "cell_type": "code",
   "source": [
    "df_factura_norte = asignar_valores_aleatorios(\n",
    "    df_destino=df_factura_norte,\n",
    "    nombre_columna=\"idpaciente\",\n",
    "    valores_origen=series_id_pacientes_norte\n",
    ")"
   ],
   "id": "37a9a112560ea7d8",
   "outputs": [],
   "execution_count": 85
  },
  {
   "metadata": {
    "ExecuteTime": {
     "end_time": "2025-10-06T03:57:08.028139Z",
     "start_time": "2025-10-06T03:57:08.024149Z"
    }
   },
   "cell_type": "code",
   "source": "df_factura_norte[\"idpaciente\"].value_counts()",
   "id": "bfd9adad0d5acd09",
   "outputs": [
    {
     "data": {
      "text/plain": [
       "idpaciente\n",
       "PA250    61\n",
       "PA257    58\n",
       "PA071    57\n",
       "PA192    55\n",
       "PA098    55\n",
       "         ..\n",
       "PA293    32\n",
       "PA146    32\n",
       "PA093    32\n",
       "PA240    30\n",
       "PA068    28\n",
       "Name: count, Length: 142, dtype: int64"
      ]
     },
     "execution_count": 87,
     "metadata": {},
     "output_type": "execute_result"
    }
   ],
   "execution_count": 87
  },
  {
   "metadata": {
    "ExecuteTime": {
     "end_time": "2025-10-06T03:57:53.785100Z",
     "start_time": "2025-10-06T03:57:53.778358Z"
    }
   },
   "cell_type": "code",
   "source": "df_factura_sur",
   "id": "11b2068fbb3a6717",
   "outputs": [
    {
     "data": {
      "text/plain": [
       "     idFactura idpaciente fecha idHosp\n",
       "0      FAS0001      PA139   NaN   HS01\n",
       "1      FAS0002      PA026   NaN   HS01\n",
       "2      FAS0003      PA274   NaN   HS01\n",
       "3      FAS0004      PA236   NaN   HS01\n",
       "4      FAS0005      PA123   NaN   HS01\n",
       "...        ...        ...   ...    ...\n",
       "5995   FAS5996      PA055   NaN   HS60\n",
       "5996   FAS5997      PA171   NaN   HS60\n",
       "5997   FAS5998      PA155   NaN   HS60\n",
       "5998   FAS5999      PA217   NaN   HS60\n",
       "5999   FAS6000      PA007   NaN   HS60\n",
       "\n",
       "[6000 rows x 4 columns]"
      ],
      "text/html": [
       "<div>\n",
       "<style scoped>\n",
       "    .dataframe tbody tr th:only-of-type {\n",
       "        vertical-align: middle;\n",
       "    }\n",
       "\n",
       "    .dataframe tbody tr th {\n",
       "        vertical-align: top;\n",
       "    }\n",
       "\n",
       "    .dataframe thead th {\n",
       "        text-align: right;\n",
       "    }\n",
       "</style>\n",
       "<table border=\"1\" class=\"dataframe\">\n",
       "  <thead>\n",
       "    <tr style=\"text-align: right;\">\n",
       "      <th></th>\n",
       "      <th>idFactura</th>\n",
       "      <th>idpaciente</th>\n",
       "      <th>fecha</th>\n",
       "      <th>idHosp</th>\n",
       "    </tr>\n",
       "  </thead>\n",
       "  <tbody>\n",
       "    <tr>\n",
       "      <th>0</th>\n",
       "      <td>FAS0001</td>\n",
       "      <td>PA139</td>\n",
       "      <td>NaN</td>\n",
       "      <td>HS01</td>\n",
       "    </tr>\n",
       "    <tr>\n",
       "      <th>1</th>\n",
       "      <td>FAS0002</td>\n",
       "      <td>PA026</td>\n",
       "      <td>NaN</td>\n",
       "      <td>HS01</td>\n",
       "    </tr>\n",
       "    <tr>\n",
       "      <th>2</th>\n",
       "      <td>FAS0003</td>\n",
       "      <td>PA274</td>\n",
       "      <td>NaN</td>\n",
       "      <td>HS01</td>\n",
       "    </tr>\n",
       "    <tr>\n",
       "      <th>3</th>\n",
       "      <td>FAS0004</td>\n",
       "      <td>PA236</td>\n",
       "      <td>NaN</td>\n",
       "      <td>HS01</td>\n",
       "    </tr>\n",
       "    <tr>\n",
       "      <th>4</th>\n",
       "      <td>FAS0005</td>\n",
       "      <td>PA123</td>\n",
       "      <td>NaN</td>\n",
       "      <td>HS01</td>\n",
       "    </tr>\n",
       "    <tr>\n",
       "      <th>...</th>\n",
       "      <td>...</td>\n",
       "      <td>...</td>\n",
       "      <td>...</td>\n",
       "      <td>...</td>\n",
       "    </tr>\n",
       "    <tr>\n",
       "      <th>5995</th>\n",
       "      <td>FAS5996</td>\n",
       "      <td>PA055</td>\n",
       "      <td>NaN</td>\n",
       "      <td>HS60</td>\n",
       "    </tr>\n",
       "    <tr>\n",
       "      <th>5996</th>\n",
       "      <td>FAS5997</td>\n",
       "      <td>PA171</td>\n",
       "      <td>NaN</td>\n",
       "      <td>HS60</td>\n",
       "    </tr>\n",
       "    <tr>\n",
       "      <th>5997</th>\n",
       "      <td>FAS5998</td>\n",
       "      <td>PA155</td>\n",
       "      <td>NaN</td>\n",
       "      <td>HS60</td>\n",
       "    </tr>\n",
       "    <tr>\n",
       "      <th>5998</th>\n",
       "      <td>FAS5999</td>\n",
       "      <td>PA217</td>\n",
       "      <td>NaN</td>\n",
       "      <td>HS60</td>\n",
       "    </tr>\n",
       "    <tr>\n",
       "      <th>5999</th>\n",
       "      <td>FAS6000</td>\n",
       "      <td>PA007</td>\n",
       "      <td>NaN</td>\n",
       "      <td>HS60</td>\n",
       "    </tr>\n",
       "  </tbody>\n",
       "</table>\n",
       "<p>6000 rows × 4 columns</p>\n",
       "</div>"
      ]
     },
     "execution_count": 88,
     "metadata": {},
     "output_type": "execute_result"
    }
   ],
   "execution_count": 88
  },
  {
   "metadata": {},
   "cell_type": "markdown",
   "source": "## FECHAS",
   "id": "a0ecf4db0c22363e"
  },
  {
   "metadata": {
    "ExecuteTime": {
     "end_time": "2025-10-06T04:01:41.867348Z",
     "start_time": "2025-10-06T04:01:41.864454Z"
    }
   },
   "cell_type": "code",
   "source": [
    "import pandas as pd\n",
    "import numpy as np\n",
    "\n",
    "def asignar_fechas(df_destino, columna_destino, fecha_inicio, fecha_fin, shuffle=True, random_state=None):\n",
    "    \"\"\"\n",
    "    Asigna fechas dentro de un rango a un DataFrame, repitiendo\n",
    "    días para cubrir todas las filas.\n",
    "\n",
    "    Parámetros:\n",
    "    -----------\n",
    "    df_destino : pd.DataFrame\n",
    "        DataFrame al cual se le asignarán las fechas.\n",
    "    columna_destino : str\n",
    "        Nombre de la columna donde se guardarán las fechas.\n",
    "    fecha_inicio : str | datetime\n",
    "        Fecha mínima (ej: \"2023-01-01\").\n",
    "    fecha_fin : str | datetime\n",
    "        Fecha máxima (ej: \"2024-12-31\").\n",
    "    shuffle : bool, opcional (default=True)\n",
    "        Si True, mezcla las fechas antes de asignarlas.\n",
    "    random_state : int, opcional\n",
    "        Semilla para la aleatoriedad (solo si shuffle=True).\n",
    "\n",
    "    Retorna:\n",
    "    --------\n",
    "    pd.DataFrame\n",
    "        DataFrame con la columna de fechas asignada.\n",
    "    \"\"\"\n",
    "    # Generar todas las fechas dentro del rango\n",
    "    fechas = pd.date_range(start=fecha_inicio, end=fecha_fin, freq=\"D\")\n",
    "\n",
    "    # Repetir las fechas hasta cubrir el total de registros\n",
    "    total_registros = len(df_destino)\n",
    "    fechas_repetidas = np.resize(fechas, total_registros)\n",
    "\n",
    "    # Mezclar si se solicita\n",
    "    if shuffle:\n",
    "        rng = np.random.default_rng(random_state)\n",
    "        rng.shuffle(fechas_repetidas)\n",
    "\n",
    "    # Asignar al DataFrame\n",
    "    df_destino[columna_destino] = fechas_repetidas\n",
    "    return df_destino\n"
   ],
   "id": "94506efc1f6d3803",
   "outputs": [],
   "execution_count": 89
  },
  {
   "metadata": {
    "ExecuteTime": {
     "end_time": "2025-10-06T04:02:01.537575Z",
     "start_time": "2025-10-06T04:02:01.528708Z"
    }
   },
   "cell_type": "code",
   "source": [
    "# Para df_factura_sur\n",
    "df_factura_sur = asignar_fechas(\n",
    "    df_factura_sur,\n",
    "    columna_destino=\"fecha\",\n",
    "    fecha_inicio=\"2023-01-01\",\n",
    "    fecha_fin=\"2024-12-31\",\n",
    "    shuffle=True,\n",
    "    random_state=42\n",
    ")\n",
    "\n",
    "# Para df_factura_norte\n",
    "df_factura_norte = asignar_fechas(\n",
    "    df_factura_norte,\n",
    "    columna_destino=\"fecha\",\n",
    "    fecha_inicio=\"2023-01-01\",\n",
    "    fecha_fin=\"2024-12-31\",\n",
    "    shuffle=True,\n",
    "    random_state=42\n",
    ")\n"
   ],
   "id": "81557675007c15b",
   "outputs": [],
   "execution_count": 90
  },
  {
   "metadata": {
    "ExecuteTime": {
     "end_time": "2025-10-06T04:03:11.580258Z",
     "start_time": "2025-10-06T04:03:11.576990Z"
    }
   },
   "cell_type": "code",
   "source": [
    "print(\"SUR -> Rango de fechas:\", df_factura_sur[\"fecha\"].min(), \"a\", df_factura_sur[\"fecha\"].max())\n",
    "print(\"NORTE -> Rango de fechas:\", df_factura_norte[\"fecha\"].min(), \"a\", df_factura_norte[\"fecha\"].max())\n"
   ],
   "id": "a4d1348f3d4f4a8a",
   "outputs": [
    {
     "name": "stdout",
     "output_type": "stream",
     "text": [
      "SUR -> Rango de fechas: 2023-01-01 00:00:00 a 2024-12-31 00:00:00\n",
      "NORTE -> Rango de fechas: 2023-01-01 00:00:00 a 2024-12-31 00:00:00\n"
     ]
    }
   ],
   "execution_count": 92
  },
  {
   "metadata": {
    "ExecuteTime": {
     "end_time": "2025-10-06T04:03:25.098086Z",
     "start_time": "2025-10-06T04:03:25.091561Z"
    }
   },
   "cell_type": "code",
   "source": [
    "print(\"Facturas SUR por año:\")\n",
    "print(df_factura_sur[\"fecha\"].dt.year.value_counts())\n",
    "\n",
    "print(\"\\nFacturas NORTE por año:\")\n",
    "print(df_factura_norte[\"fecha\"].dt.year.value_counts())\n"
   ],
   "id": "663455353e1cabae",
   "outputs": [
    {
     "name": "stdout",
     "output_type": "stream",
     "text": [
      "Facturas SUR por año:\n",
      "fecha\n",
      "2023    3072\n",
      "2024    2928\n",
      "Name: count, dtype: int64\n",
      "\n",
      "Facturas NORTE por año:\n",
      "fecha\n",
      "2023    3072\n",
      "2024    2928\n",
      "Name: count, dtype: int64\n"
     ]
    }
   ],
   "execution_count": 93
  },
  {
   "metadata": {
    "ExecuteTime": {
     "end_time": "2025-10-06T04:06:16.644872Z",
     "start_time": "2025-10-06T04:06:16.631841Z"
    }
   },
   "cell_type": "code",
   "source": [
    "df_factura_sur.to_csv(\n",
    "    \"factura_sur.csv\",  # Nombre del archivo de salida\n",
    "    index=False,             # No incluir la columna de índice (0, 1, 2, ...)\n",
    "    header=False\n",
    ")"
   ],
   "id": "2cd94304bfd93597",
   "outputs": [],
   "execution_count": 98
  },
  {
   "metadata": {
    "ExecuteTime": {
     "end_time": "2025-10-06T04:06:18.948466Z",
     "start_time": "2025-10-06T04:06:18.868099Z"
    }
   },
   "cell_type": "code",
   "source": [
    "df_factura_norte.to_csv(\n",
    "    \"factura_norte.csv\",  # Nombre del archivo de salida\n",
    "    index=False,             # No incluir la columna de índice (0, 1, 2, ...)\n",
    "    header=False\n",
    ")"
   ],
   "id": "3c687a780514869b",
   "outputs": [],
   "execution_count": 99
  }
 ],
 "metadata": {
  "kernelspec": {
   "display_name": "Python 3",
   "language": "python",
   "name": "python3"
  },
  "language_info": {
   "codemirror_mode": {
    "name": "ipython",
    "version": 2
   },
   "file_extension": ".py",
   "mimetype": "text/x-python",
   "name": "python",
   "nbconvert_exporter": "python",
   "pygments_lexer": "ipython2",
   "version": "2.7.6"
  }
 },
 "nbformat": 4,
 "nbformat_minor": 5
}
